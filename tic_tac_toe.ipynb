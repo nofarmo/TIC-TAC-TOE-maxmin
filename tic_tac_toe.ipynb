{
  "nbformat": 4,
  "nbformat_minor": 0,
  "metadata": {
    "colab": {
      "name": "tic-tac-toe.ipynb",
      "provenance": [],
      "collapsed_sections": [
        "MLjyzNTBuXFu",
        "B8eibLcquZoz"
      ],
      "authorship_tag": "ABX9TyNolbOr5qO9f8EzFg8O7PvX",
      "include_colab_link": true
    },
    "kernelspec": {
      "name": "python3",
      "display_name": "Python 3"
    }
  },
  "cells": [
    {
      "cell_type": "markdown",
      "metadata": {
        "id": "view-in-github",
        "colab_type": "text"
      },
      "source": [
        "<a href=\"https://colab.research.google.com/github/nofarmordehai/TIC-TAC-TOE-maxmin/blob/master/tic_tac_toe.ipynb\" target=\"_parent\"><img src=\"https://colab.research.google.com/assets/colab-badge.svg\" alt=\"Open In Colab\"/></a>"
      ]
    },
    {
      "cell_type": "markdown",
      "metadata": {
        "id": "uYUgVj2SPTKz",
        "colab_type": "text"
      },
      "source": [
        "\n",
        "\n",
        "**Play TIC TAC TOE Against a smart computer**\n",
        "\n",
        "1. choose \"Runtime\" -> \"Run all\"\n",
        "2. collapse the code using the arrow (or read it if you're curious!)\n",
        "3. go to \"PLAY!\" and try to beat the computer (more instructions there)\n",
        "\n"
      ]
    },
    {
      "cell_type": "markdown",
      "metadata": {
        "id": "MLjyzNTBuXFu",
        "colab_type": "text"
      },
      "source": [
        "# Game & Board code\n"
      ]
    },
    {
      "cell_type": "code",
      "metadata": {
        "id": "W2KMUegVvn_v",
        "colab_type": "code",
        "colab": {}
      },
      "source": [
        "class Board:\n",
        "\n",
        "  # create board\n",
        "\n",
        "  def __init__ (self):\n",
        "    \n",
        "    self.board = {1: ' ' , 2: ' ' , 3: ' ' ,\n",
        "            4: ' ' , 5: ' ' , 6: ' ' ,\n",
        "            7: ' ' , 8: ' ' , 9: ' '}\n",
        "    self.is_winner = False\n",
        "    self.count_full = 0\n",
        "    self.player_won = ' '\n",
        "    self.player_starts = ' '\n",
        "\n",
        "  # win checks\n",
        "\n",
        "  def win_row(self):\n",
        "    row_start_point = [1, 4, 7]\n",
        "    for start in row_start_point:\n",
        "      if self.board[start] != ' ' and self.board[start] == self.board[start+1] == self.board[start+2]:\n",
        "        self.is_winner = True\n",
        "        self.player_won = self.board[start]\n",
        "        break\n",
        "  \n",
        "  def win_column(self):\n",
        "    row_start_point = [1, 2, 3]\n",
        "    for start in row_start_point:\n",
        "      if self.board[start] != ' ' and self.board[start] == self.board[start+3] == self.board[start+6]:\n",
        "        self.is_winner = True\n",
        "        self.player_won = self.board[start]\n",
        "        break\n",
        "\n",
        "  def win_diagonal(self):\n",
        "    if self.board[5] != ' ' and (self.board[1] == self.board[5] == self.board[9] or self.board[3] == self.board[5] == self.board[7]):\n",
        "      self.is_winner = True\n",
        "      self.player_won = self.board[5]\n",
        "    \n",
        "  def check_win(self):\n",
        "    self.win_row()\n",
        "    if self.is_winner == False:\n",
        "      self.win_column()\n",
        "      if self.is_winner == False:\n",
        "        self.win_diagonal()\n",
        "\n",
        "  # prints & instructions\n",
        "\n",
        "  def print_board(self):\n",
        "    print(self.board[1] + '|' + self.board[2] + '|' + self.board[3])\n",
        "    print('-+-+-')\n",
        "    print(self.board[4] + '|' + self.board[5] + '|' + self.board[6])\n",
        "    print('-+-+-')\n",
        "    print(self.board[7] + '|' + self.board[8] + '|' + self.board[9])\n",
        "\n",
        "  def print_instructions(self):\n",
        "    print(\"HELLO! welcome to TIC-TAC-TOE\")\n",
        "    print(\"This is our board cells number markings:\")\n",
        "    print()\n",
        "    print('1|2|3')\n",
        "    print('-+-+-')\n",
        "    print('4|5|6')\n",
        "    print('-+-+-')\n",
        "    print('7|8|9')\n",
        "    print()\n",
        "    print(\"When asked please play your turn and enter avaliable cell number for X.\")\n",
        "  \n",
        "  def who_starts(self):\n",
        "    while self.player_starts != 'X' and self.player_starts != 'O':\n",
        "      print(\"You're X I'm O. Who goes first ? please enter X or O.\")\n",
        "      self.player_starts = input()\n",
        "\n",
        "  def message_end(self):\n",
        "    print(\"GAME OVER!\")\n",
        "    if self.is_winner:\n",
        "      print(self.player_won,\"WON!\")\n",
        "    else:\n",
        "      print(\"TIE!\")\n",
        "\n",
        "\n",
        "  def avaliable_cells(self):\n",
        "    avaliables = []\n",
        "    for i in range(1,10):\n",
        "      if self.board[i] == ' ': \n",
        "        avaliables.append(i)\n",
        "    return avaliables\n",
        "\n",
        "  # player_turn\n",
        "\n",
        "  def player_turn(self):\n",
        "    turn = 0\n",
        "    avaliables = self.avaliable_cells()\n",
        "    while turn not in avaliables:\n",
        "      print(\"Your turn! Please enter avaliable cell number for X.\")\n",
        "      turn = input()\n",
        "      turn = ord(turn) - 48\n",
        "    self.board[turn] = 'X'\n",
        "  \n",
        "  def total_player_turn(self):\n",
        "      self.player_turn()\n",
        "      self.count_full = self.count_full + 1 \n",
        "      self.print_board()\n",
        "      self.check_win()\n",
        "\n",
        "   # computer_turn\n",
        "\n",
        "  def computer_turn(self):\n",
        "    turn = best_move(self)\n",
        "    self.board[turn] = 'O'\n",
        "    #print (\"computer still learning :(\")\n",
        "\n",
        "  def total_computer_turn(self):\n",
        "      self.computer_turn()\n",
        "      self.count_full = self.count_full + 1 \n",
        "      print (\"Computer turn :)\")\n",
        "      self.print_board()\n",
        "      self.check_win()\n",
        "  "
      ],
      "execution_count": null,
      "outputs": []
    },
    {
      "cell_type": "code",
      "metadata": {
        "id": "HY5sREdq6XNh",
        "colab_type": "code",
        "colab": {}
      },
      "source": [
        "def new_game():\n",
        "  board = Board()\n",
        "  board.print_instructions()\n",
        "  board.who_starts()\n",
        "  \n",
        "  print('Lets start!')\n",
        "  board.print_board()\n",
        "\n",
        "  if board.player_starts == 'X':\n",
        "    while board.is_winner == False and board.count_full < 9:\n",
        "      board.total_player_turn()\n",
        "      if board.is_winner or board.count_full == 9: break\n",
        "      board.total_computer_turn()\n",
        "  \n",
        "  elif board.player_starts == 'O':\n",
        "    while board.is_winner == False and board.count_full < 9:\n",
        "      board.total_computer_turn()\n",
        "      if board.is_winner or board.count_full == 9: break\n",
        "      board.total_player_turn()\n",
        "\n",
        "  board.message_end()"
      ],
      "execution_count": null,
      "outputs": []
    },
    {
      "cell_type": "markdown",
      "metadata": {
        "id": "B8eibLcquZoz",
        "colab_type": "text"
      },
      "source": [
        "# Computer logic code (maxmin)\n"
      ]
    },
    {
      "cell_type": "code",
      "metadata": {
        "id": "ADPIdUt7u-c2",
        "colab_type": "code",
        "colab": {}
      },
      "source": [
        "import random"
      ],
      "execution_count": null,
      "outputs": []
    },
    {
      "cell_type": "code",
      "metadata": {
        "id": "2EXl3wCSMZW9",
        "colab_type": "code",
        "colab": {}
      },
      "source": [
        "def do_move(board, move, player):\n",
        "  board.board[move] = player\n",
        "  board.count_full = board.count_full + 1\n",
        "\n",
        "def undo_move(board, move):\n",
        "  board.board[move] = ' '\n",
        "  board.count_full = board.count_full - 1    \n",
        "  board.is_winner = False\n",
        "  board.player_won = ' '"
      ],
      "execution_count": null,
      "outputs": []
    },
    {
      "cell_type": "code",
      "metadata": {
        "id": "raOeC1aMuiCd",
        "colab_type": "code",
        "colab": {}
      },
      "source": [
        "def best_move(board):\n",
        "\n",
        "  # computer is first, corner is best.\n",
        "  if board.count_full == 0:\n",
        "    return random.choice([1,3,7,9]) \n",
        "\n",
        "  # fill last cell.\n",
        "  if board.count_full == 8:\n",
        "    for i in range(1,10):\n",
        "      if board.board[i] == ' ': \n",
        "        return i\n",
        "  \n",
        "  # computer is second, player 'X' in a corner, so 'O' in the middle.\n",
        "  if board.count_full == 1:\n",
        "    for i in [1,3,7,9]:\n",
        "      if board.board[i] != ' ':\n",
        "        return 5 \n",
        "\n",
        "  # maxmin method\n",
        "  avaliables = board.avaliable_cells()\n",
        "\n",
        "  best = -1000\n",
        "  best_turn = 0\n",
        "\n",
        "  for move in avaliables:\n",
        "    do_move(board, move, 'O')\n",
        "    \n",
        "    # value move\n",
        "    check = maxmin(board,0, False)\n",
        "    if check > best: \n",
        "      best = check\n",
        "      best_turn = move\n",
        "\n",
        "    undo_move(board, move)\n",
        "\n",
        "  return best_turn"
      ],
      "execution_count": null,
      "outputs": []
    },
    {
      "cell_type": "code",
      "metadata": {
        "id": "RkLILZ5-5jtr",
        "colab_type": "code",
        "colab": {}
      },
      "source": [
        "def evaluate(board):\n",
        "  board.check_win()\n",
        "  if board.is_winner:\n",
        "    return 10 if board.player_won == 'O' else -10\n",
        "  if board.count_full == 9: # and no winner, tie\n",
        "    return 0\n",
        "  return ' '"
      ],
      "execution_count": null,
      "outputs": []
    },
    {
      "cell_type": "code",
      "metadata": {
        "id": "WQxhDbC34eEj",
        "colab_type": "code",
        "colab": {}
      },
      "source": [
        "def maxmin(board, depth, isMax):\n",
        "  \n",
        "  score = evaluate(board)\n",
        "  if score != ' ':\n",
        "    return score\n",
        "\n",
        "  avaliables = board.avaliable_cells()\n",
        "\n",
        "  # If this maximizer's move \n",
        "  if isMax:\n",
        "    best = -1000\n",
        "    for move in avaliables:\n",
        "      do_move(board, move, 'O')\n",
        "      check = maxmin(board,depth+1, not isMax)\n",
        "      best = check if check > best else best\n",
        "      undo_move(board, move)\n",
        "    return best-depth\n",
        "\n",
        "  # If this minimizer's move \n",
        "  else:\n",
        "    best = 1000\n",
        "    for move in avaliables:\n",
        "      do_move(board, move, 'X')\n",
        "      check = maxmin(board, depth+1,not isMax)\n",
        "      best = check if check < best else best\n",
        "      undo_move(board, move)\n",
        "    return best+depth\n"
      ],
      "execution_count": null,
      "outputs": []
    },
    {
      "cell_type": "markdown",
      "metadata": {
        "id": "K1relsYRHUmk",
        "colab_type": "text"
      },
      "source": [
        "# PLAY!"
      ]
    },
    {
      "cell_type": "code",
      "metadata": {
        "id": "fo2A4iqlN8gI",
        "colab_type": "code",
        "colab": {
          "base_uri": "https://localhost:8080/",
          "height": 1000
        },
        "outputId": "91cd50b8-672f-4ac6-9fd5-44b8cfcbb055"
      },
      "source": [
        "new_game()"
      ],
      "execution_count": null,
      "outputs": [
        {
          "output_type": "stream",
          "text": [
            "HELLO! welcome to TIC-TAC-TOE\n",
            "This is our board cells number markings:\n",
            "\n",
            "1|2|3\n",
            "-+-+-\n",
            "4|5|6\n",
            "-+-+-\n",
            "7|8|9\n",
            "\n",
            "When asked please play your turn and enter avaliable cell number for X.\n",
            "You're X I'm O. Who goes first ? please enter X or O.\n",
            "O\n",
            "Lets start!\n",
            " | | \n",
            "-+-+-\n",
            " | | \n",
            "-+-+-\n",
            " | | \n",
            "Computer turn :)\n",
            " | | \n",
            "-+-+-\n",
            " | | \n",
            "-+-+-\n",
            "O| | \n",
            "Your turn! Please enter avaliable cell number for X.\n",
            "3\n",
            " | |X\n",
            "-+-+-\n",
            " | | \n",
            "-+-+-\n",
            "O| | \n",
            "Computer turn :)\n",
            "O| |X\n",
            "-+-+-\n",
            " | | \n",
            "-+-+-\n",
            "O| | \n",
            "Your turn! Please enter avaliable cell number for X.\n",
            "4\n",
            "O| |X\n",
            "-+-+-\n",
            "X| | \n",
            "-+-+-\n",
            "O| | \n",
            "Computer turn :)\n",
            "O| |X\n",
            "-+-+-\n",
            "X| | \n",
            "-+-+-\n",
            "O| |O\n",
            "Your turn! Please enter avaliable cell number for X.\n",
            "8\n",
            "O| |X\n",
            "-+-+-\n",
            "X| | \n",
            "-+-+-\n",
            "O|X|O\n",
            "Computer turn :)\n",
            "O| |X\n",
            "-+-+-\n",
            "X|O| \n",
            "-+-+-\n",
            "O|X|O\n",
            "GAME OVER!\n",
            "O WON!\n"
          ],
          "name": "stdout"
        }
      ]
    }
  ]
}